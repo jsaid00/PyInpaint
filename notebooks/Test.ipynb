{
 "cells": [
  {
   "cell_type": "code",
   "execution_count": null,
   "id": "a3f42726",
   "metadata": {
    "tags": []
   },
   "outputs": [],
   "source": [
    "from pyinpaint.inpaint import Inpainting\n",
    "\n",
    "from matplotlib import pyplot as plt"
   ]
  },
  {
   "cell_type": "code",
   "execution_count": null,
   "id": "97d932f3",
   "metadata": {
    "tags": []
   },
   "outputs": [],
   "source": [
    "def show_images(org_img, mask, inpainted_img):\n",
    "    org_img = plt.imread(org_img)\n",
    "    org_img = (org_img - org_img.min()) /(org_img.max() - org_img.min())\n",
    "    mask = plt.imread(mask)\n",
    "    f = plt.figure(figsize=(20,20))\n",
    "    f.add_subplot(1,3,1)\n",
    "    plt.imshow(org_img, cmap=\"gray\")\n",
    "    plt.axis(\"off\")\n",
    "    plt.title(\"ORIGINAL\")\n",
    "    f.add_subplot(1,3,2)\n",
    "    plt.imshow((org_img.T * mask.T).T, cmap=\"gray\")\n",
    "    plt.axis(\"off\")\n",
    "    plt.title(\"MASKED\")\n",
    "    f.add_subplot(1,3,3)\n",
    "    plt.imshow(inpainted_img, cmap=\"gray\")\n",
    "    plt.axis(\"off\")\n",
    "    plt.title(\"INPAINTED\")\n",
    "    #plt.savefig(\"out.jpg\",bbox_inches=\"tight\")\n",
    "    plt.show"
   ]
  },
  {
   "cell_type": "code",
   "execution_count": null,
   "id": "7db47f01",
   "metadata": {
    "tags": []
   },
   "outputs": [],
   "source": [
    "org_img = \"../data/lincoln.png\"\n",
    "mask = \"../data/lincoln_mask.png\"\n",
    "inpaint = Inpainting(org_img, mask, 7)"
   ]
  },
  {
   "cell_type": "code",
   "execution_count": null,
   "id": "22fce3b8",
   "metadata": {
    "tags": []
   },
   "outputs": [],
   "source": [
    "inpainted_img = inpaint()"
   ]
  },
  {
   "cell_type": "code",
   "execution_count": null,
   "id": "3017ea83",
   "metadata": {
    "tags": []
   },
   "outputs": [],
   "source": [
    "show_images(org_img, mask, inpainted_img)"
   ]
  },
  {
   "cell_type": "code",
   "execution_count": null,
   "id": "5b782d8c",
   "metadata": {
    "tags": []
   },
   "outputs": [],
   "source": [
    "org_img = \"../data/barbara.jpg\"\n",
    "mask = \"../data/barbara_mask.png\"\n",
    "inpaint = Inpainting(org_img, mask, ps=9)\n",
    "inpainted_img = inpaint(k_boundary=8, k_search=1000, k_patch=7)\n",
    "show_images(org_img, mask, inpainted_img)"
   ]
  },
  {
   "cell_type": "code",
   "execution_count": null,
   "id": "4952a0fb",
   "metadata": {
    "tags": []
   },
   "outputs": [],
   "source": [
    "org_img = \"../data/fly.png\"\n",
    "mask = \"../data/fly_mask.png\"\n",
    "inpaint = Inpainting(org_img, mask, ps=13)\n",
    "\n",
    "inpainted_img = inpaint(k_boundary=4, k_search=1000, k_patch=5)\n",
    "\n",
    "show_images(org_img, mask, inpainted_img)"
   ]
  }
 ],
 "metadata": {
  "kernelspec": {
   "display_name": "Python 3 (ipykernel)",
   "language": "python",
   "name": "python3"
  },
  "language_info": {
   "codemirror_mode": {
    "name": "ipython",
    "version": 3
   },
   "file_extension": ".py",
   "mimetype": "text/x-python",
   "name": "python",
   "nbconvert_exporter": "python",
   "pygments_lexer": "ipython3",
   "version": "3.10.10"
  }
 },
 "nbformat": 4,
 "nbformat_minor": 5
}
